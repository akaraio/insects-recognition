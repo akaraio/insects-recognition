{
 "cells": [
  {
   "cell_type": "code",
   "execution_count": null,
   "metadata": {
    "executionInfo": {
     "elapsed": 219,
     "status": "ok",
     "timestamp": 1733490160969,
     "user": {
      "displayName": "akara",
      "userId": "03294495074658875410"
     },
     "user_tz": -120
    },
    "id": "OVl-LxBjVpzJ"
   },
   "outputs": [],
   "source": [
    "import tensorflow as tf\n",
    "from tensorflow.keras.layers import Dense, Input, Flatten\n",
    "from tensorflow.keras.applications.vgg16 import VGG16, preprocess_input\n",
    "from tensorflow.keras.optimizers import SGD, Adam\n",
    "from tensorflow.keras.models import Model\n",
    "from tensorflow.keras.preprocessing import image\n",
    "from tensorflow.keras.preprocessing.image import ImageDataGenerator\n",
    "\n",
    "import sys, os\n",
    "import pandas as pd\n",
    "import numpy as np\n",
    "import matplotlib.pyplot as plt"
   ]
  },
  {
   "cell_type": "code",
   "execution_count": 2,
   "metadata": {
    "executionInfo": {
     "elapsed": 220,
     "status": "ok",
     "timestamp": 1733485589873,
     "user": {
      "displayName": "akara",
      "userId": "03294495074658875410"
     },
     "user_tz": -120
    },
    "id": "l9UBHrw1b-_j"
   },
   "outputs": [],
   "source": [
    "dir = 'data'\n",
    "cls_count = 5"
   ]
  },
  {
   "cell_type": "code",
   "execution_count": null,
   "metadata": {
    "colab": {
     "base_uri": "https://localhost:8080/"
    },
    "executionInfo": {
     "elapsed": 3806,
     "status": "ok",
     "timestamp": 1733485595849,
     "user": {
      "displayName": "akara",
      "userId": "03294495074658875410"
     },
     "user_tz": -120
    },
    "id": "Fxw0Pv5jjJc4",
    "outputId": "a0237a38-a055-4ef9-da1a-aaa8b9209ff0"
   },
   "outputs": [],
   "source": [
    "generator = {\n",
    "    'train': ImageDataGenerator(rescale=1. / 255, rotation_range=20, width_shift_range=0.1, height_shift_range=0.1, shear_range=0.1, zoom_range=0.2,\n",
    "                                horizontal_flip=True, preprocessing_function=preprocess_input).flow_from_directory(directory=dir, target_size=(200, 200),subset='training'),\n",
    "    'valid': ImageDataGenerator(rescale=1 / 255, validation_split=0.2, preprocessing_function=preprocess_input).flow_from_directory(directory=dir, target_size=(200, 200), subset='validation')\n",
    "}"
   ]
  },
  {
   "cell_type": "code",
   "execution_count": null,
   "metadata": {
    "colab": {
     "base_uri": "https://localhost:8080/"
    },
    "executionInfo": {
     "elapsed": 7497,
     "status": "ok",
     "timestamp": 1733485604233,
     "user": {
      "displayName": "akara",
      "userId": "03294495074658875410"
     },
     "user_tz": -120
    },
    "id": "kylaXFEbc9AY",
    "outputId": "58beb40c-c347-4c8c-869b-ce41ee5d931d"
   },
   "outputs": [],
   "source": [
    "IMG_SIZE = (200, 200, 3)\n",
    "\n",
    "base_model = VGG16(input_shape=IMG_SIZE, weights='imagenet', include_top=False)\n",
    "base_model.trainable = False"
   ]
  },
  {
   "cell_type": "code",
   "execution_count": null,
   "metadata": {
    "colab": {
     "base_uri": "https://localhost:8080/"
    },
    "executionInfo": {
     "elapsed": 13,
     "status": "ok",
     "timestamp": 1733485604233,
     "user": {
      "displayName": "akara",
      "userId": "03294495074658875410"
     },
     "user_tz": -120
    },
    "id": "1luCCPo7dH1A",
    "outputId": "e793f943-a79d-42aa-c98a-9bd386ca3287"
   },
   "outputs": [],
   "source": [
    "x = Flatten()(base_model.output)\n",
    "x = Dense(cls_count, activation='softmax')(x)\n",
    "\n",
    "model = Model(base_model.input, x)\n",
    "model.summary()"
   ]
  },
  {
   "cell_type": "code",
   "execution_count": 6,
   "metadata": {
    "executionInfo": {
     "elapsed": 208,
     "status": "ok",
     "timestamp": 1733485611497,
     "user": {
      "displayName": "akara",
      "userId": "03294495074658875410"
     },
     "user_tz": -120
    },
    "id": "ZlLWQ5JbjmXt"
   },
   "outputs": [],
   "source": [
    "batch_size = 128\n",
    "epochs = 10\n",
    "\n",
    "train_generator = generator['train']\n",
    "valid_generator = generator['valid']\n",
    "steps_per_epoch = train_generator.n // batch_size\n",
    "validation_steps = valid_generator.n // batch_size"
   ]
  },
  {
   "cell_type": "code",
   "execution_count": null,
   "metadata": {
    "colab": {
     "base_uri": "https://localhost:8080/"
    },
    "executionInfo": {
     "elapsed": 2726377,
     "status": "ok",
     "timestamp": 1733488341714,
     "user": {
      "displayName": "akara",
      "userId": "03294495074658875410"
     },
     "user_tz": -120
    },
    "id": "0uopoWu6dLXY",
    "outputId": "b0040820-2ccf-4d9b-b5bb-f7faf82f3682"
   },
   "outputs": [],
   "source": [
    "model.compile(loss='categorical_crossentropy', optimizer='adam', metrics=['accuracy'])\n",
    "r = model.fit(train_generator, epochs=10, validation_data=valid_generator, steps_per_epoch=steps_per_epoch, validation_steps=validation_steps)"
   ]
  },
  {
   "cell_type": "code",
   "execution_count": 8,
   "metadata": {
    "executionInfo": {
     "elapsed": 2334,
     "status": "ok",
     "timestamp": 1733488344039,
     "user": {
      "displayName": "akara",
      "userId": "03294495074658875410"
     },
     "user_tz": -120
    },
    "id": "dAfFD50MfZuy"
   },
   "outputs": [],
   "source": [
    "model.save('data')\n",
    "loaded_model = tf.keras.models.load_model('data')"
   ]
  },
  {
   "cell_type": "code",
   "execution_count": null,
   "metadata": {
    "colab": {
     "base_uri": "https://localhost:8080/",
     "height": 447
    },
    "executionInfo": {
     "elapsed": 343,
     "status": "ok",
     "timestamp": 1733488493009,
     "user": {
      "displayName": "akara",
      "userId": "03294495074658875410"
     },
     "user_tz": -120
    },
    "id": "J0Cs5mEPeFrc",
    "outputId": "4fe709b1-02e1-4cee-c784-a65c32880425"
   },
   "outputs": [],
   "source": [
    "plt.plot(r.history['accuracy'], label='accuracy')\n",
    "plt.plot(r.history['val_accuracy'], label='val_accuracy')\n",
    "plt.legend()"
   ]
  },
  {
   "cell_type": "code",
   "execution_count": null,
   "metadata": {
    "colab": {
     "base_uri": "https://localhost:8080/"
    },
    "executionInfo": {
     "elapsed": 199,
     "status": "ok",
     "timestamp": 1733490201050,
     "user": {
      "displayName": "akara",
      "userId": "03294495074658875410"
     },
     "user_tz": -120
    },
    "id": "K77SllTCERfQ",
    "outputId": "9ab4da24-8f97-47ae-8ca6-c26833ad3a5b"
   },
   "outputs": [],
   "source": [
    "[f for f in os.listdir('data')]"
   ]
  },
  {
   "cell_type": "code",
   "execution_count": 126,
   "metadata": {
    "executionInfo": {
     "elapsed": 200,
     "status": "ok",
     "timestamp": 1733490532838,
     "user": {
      "displayName": "akara",
      "userId": "03294495074658875410"
     },
     "user_tz": -120
    },
    "id": "VWiO_bmj-A4W"
   },
   "outputs": [],
   "source": [
    "def random_image():\n",
    "  cls = ['Butterfly', 'Dragonfly', 'Grasshopper', 'Ladybird', 'Mosquito']\n",
    "  dir_path = dir + '/' + np.random.choice(cls) + '/'\n",
    "  img_file = [dir_path + fname for fname in os.listdir(dir_path)]\n",
    "  img_file = np.random.choice(img_file)\n",
    "  return img_file"
   ]
  },
  {
   "cell_type": "code",
   "execution_count": 127,
   "metadata": {
    "executionInfo": {
     "elapsed": 368,
     "status": "ok",
     "timestamp": 1733490541499,
     "user": {
      "displayName": "akara",
      "userId": "03294495074658875410"
     },
     "user_tz": -120
    },
    "id": "YMFXBrC3owLk"
   },
   "outputs": [],
   "source": [
    "def predict():\n",
    "    img = image.load_img(random_image(), target_size=(200, 200))\n",
    "    img = image.img_to_array(img, dtype=np.uint8)\n",
    "    img = np.array(img)/255.0\n",
    "\n",
    "    plt.axis('off')\n",
    "    plt.imshow(img.squeeze())\n",
    "    plt.show()\n",
    "\n",
    "    p = loaded_model.predict(np.expand_dims(img, axis=0))\n",
    "\n",
    "    labels = {0: 'Butterfly', 1: 'Dragonfly', 2: 'Grasshopper', 3: 'Ladybird', 4: 'Mosquito'}\n",
    "\n",
    "    print(np.max(p[0], axis=-1), labels[np.argmax(p[0], axis=-1)])"
   ]
  },
  {
   "cell_type": "code",
   "execution_count": null,
   "metadata": {
    "colab": {
     "base_uri": "https://localhost:8080/",
     "height": 441
    },
    "executionInfo": {
     "elapsed": 896,
     "status": "ok",
     "timestamp": 1733490554230,
     "user": {
      "displayName": "akara",
      "userId": "03294495074658875410"
     },
     "user_tz": -120
    },
    "id": "yYUIuG6x92Hq",
    "outputId": "ec344da5-ea12-4215-f9ae-a44a1c9867bf"
   },
   "outputs": [],
   "source": [
    "predict()"
   ]
  }
 ],
 "metadata": {
  "accelerator": "TPU",
  "colab": {
   "authorship_tag": "ABX9TyO7e8WNk8+1fzSrCOI9cXo1",
   "gpuType": "V28",
   "mount_file_id": "1XNUj2HL9SWOQXMYYElo8e1GtHSrvwzVI",
   "provenance": []
  },
  "kernelspec": {
   "display_name": "Python 3",
   "name": "python3"
  },
  "language_info": {
   "name": "python",
   "version": "3.12.8"
  }
 },
 "nbformat": 4,
 "nbformat_minor": 0
}
